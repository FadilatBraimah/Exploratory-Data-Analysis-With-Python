{
 "cells": [
  {
   "cell_type": "markdown",
   "id": "e553c4dc",
   "metadata": {},
   "source": [
    "### This is my submission for the Hertechtrail Data Analytics Pro capstone project."
   ]
  },
  {
   "cell_type": "markdown",
   "id": "a0c63880",
   "metadata": {},
   "source": [
    "READ TILL THE END!!!!! I PROMISE IT WILL BE INTERESTING"
   ]
  },
  {
   "cell_type": "code",
   "execution_count": 186,
   "id": "6ffc10cc",
   "metadata": {},
   "outputs": [],
   "source": [
    "# Imorting my libraries"
   ]
  },
  {
   "cell_type": "code",
   "execution_count": 187,
   "id": "1b153fec",
   "metadata": {},
   "outputs": [],
   "source": [
    "import pandas as pd\n",
    "import matplotlib.pyplot as plt\n",
    "import seaborn as sns"
   ]
  },
  {
   "cell_type": "code",
   "execution_count": 188,
   "id": "af58a46e",
   "metadata": {},
   "outputs": [],
   "source": [
    "# read the csv file\n",
    "\n",
    "df = pd.read_csv(\"capstone - capstone.csv\")"
   ]
  },
  {
   "cell_type": "code",
   "execution_count": 189,
   "id": "77de2a0e",
   "metadata": {},
   "outputs": [
    {
     "data": {
      "text/html": [
       "<div>\n",
       "<style scoped>\n",
       "    .dataframe tbody tr th:only-of-type {\n",
       "        vertical-align: middle;\n",
       "    }\n",
       "\n",
       "    .dataframe tbody tr th {\n",
       "        vertical-align: top;\n",
       "    }\n",
       "\n",
       "    .dataframe thead th {\n",
       "        text-align: right;\n",
       "    }\n",
       "</style>\n",
       "<table border=\"1\" class=\"dataframe\">\n",
       "  <thead>\n",
       "    <tr style=\"text-align: right;\">\n",
       "      <th></th>\n",
       "      <th>show_id</th>\n",
       "      <th>Type</th>\n",
       "      <th>title</th>\n",
       "      <th>director</th>\n",
       "      <th>Country</th>\n",
       "      <th>date added</th>\n",
       "      <th>rating</th>\n",
       "      <th>duration</th>\n",
       "      <th>listed_in</th>\n",
       "    </tr>\n",
       "  </thead>\n",
       "  <tbody>\n",
       "    <tr>\n",
       "      <th>0</th>\n",
       "      <td>s1</td>\n",
       "      <td>Movie</td>\n",
       "      <td>DICK jOHNSON IS deAD</td>\n",
       "      <td>Kirsten Johnson</td>\n",
       "      <td>United States</td>\n",
       "      <td>9/25/2021</td>\n",
       "      <td>PG-13</td>\n",
       "      <td>90 min</td>\n",
       "      <td>Documentaries</td>\n",
       "    </tr>\n",
       "    <tr>\n",
       "      <th>1</th>\n",
       "      <td>s3</td>\n",
       "      <td>TV Show</td>\n",
       "      <td>GANGLANdS</td>\n",
       "      <td>Julien Leclercq</td>\n",
       "      <td>France</td>\n",
       "      <td>(9/24/2021)</td>\n",
       "      <td>TV-MA</td>\n",
       "      <td>1 Season</td>\n",
       "      <td>Crime TV Shows, International TV Shows, TV Act...</td>\n",
       "    </tr>\n",
       "    <tr>\n",
       "      <th>2</th>\n",
       "      <td>s6</td>\n",
       "      <td>TV Show</td>\n",
       "      <td>MIDNIgHT MASS</td>\n",
       "      <td>Mike Flanagan</td>\n",
       "      <td>United States</td>\n",
       "      <td>(9/24/2021)</td>\n",
       "      <td>TV-MA</td>\n",
       "      <td>1 Season</td>\n",
       "      <td>TV Dramas, TV Horror, TV Mysteries</td>\n",
       "    </tr>\n",
       "    <tr>\n",
       "      <th>3</th>\n",
       "      <td>s14</td>\n",
       "      <td>Movie</td>\n",
       "      <td>COnfESsIoNs OF AN INVISIBLE GIRL</td>\n",
       "      <td>Bruno Garotti</td>\n",
       "      <td>Brazil</td>\n",
       "      <td>9/22/2021</td>\n",
       "      <td>TV-PG</td>\n",
       "      <td>91 min</td>\n",
       "      <td>Children &amp; Family Movies, Comedies</td>\n",
       "    </tr>\n",
       "    <tr>\n",
       "      <th>4</th>\n",
       "      <td>s8</td>\n",
       "      <td>Movie</td>\n",
       "      <td>sANKOFa</td>\n",
       "      <td>Haile Gerima</td>\n",
       "      <td>Us</td>\n",
       "      <td>9/24/2021</td>\n",
       "      <td>TV-MA</td>\n",
       "      <td>125 min</td>\n",
       "      <td>Dramas, Independent Movies, International Movies</td>\n",
       "    </tr>\n",
       "    <tr>\n",
       "      <th>...</th>\n",
       "      <td>...</td>\n",
       "      <td>...</td>\n",
       "      <td>...</td>\n",
       "      <td>...</td>\n",
       "      <td>...</td>\n",
       "      <td>...</td>\n",
       "      <td>...</td>\n",
       "      <td>...</td>\n",
       "      <td>...</td>\n",
       "    </tr>\n",
       "    <tr>\n",
       "      <th>8785</th>\n",
       "      <td>s8797</td>\n",
       "      <td>TV Show</td>\n",
       "      <td>YuNUs eMRE</td>\n",
       "      <td>Not Given</td>\n",
       "      <td>Turkey</td>\n",
       "      <td>1/17/2017</td>\n",
       "      <td>TV-PG</td>\n",
       "      <td>2 Seasons</td>\n",
       "      <td>International TV Shows, TV Dramas</td>\n",
       "    </tr>\n",
       "    <tr>\n",
       "      <th>8786</th>\n",
       "      <td>s8798</td>\n",
       "      <td>TV Show</td>\n",
       "      <td>zAK sTorm</td>\n",
       "      <td>Not Given</td>\n",
       "      <td>United States</td>\n",
       "      <td>9/13/2018</td>\n",
       "      <td>TV-Y7</td>\n",
       "      <td>3 Seasons</td>\n",
       "      <td>Kids' TV</td>\n",
       "    </tr>\n",
       "    <tr>\n",
       "      <th>8787</th>\n",
       "      <td>s8801</td>\n",
       "      <td>TV Show</td>\n",
       "      <td>ziNdAGi gULZAR haI</td>\n",
       "      <td>Not Given</td>\n",
       "      <td>Pakistan</td>\n",
       "      <td>12/15/2016</td>\n",
       "      <td>TV-PG</td>\n",
       "      <td>1 Season</td>\n",
       "      <td>International TV Shows, Romantic TV Shows, TV ...</td>\n",
       "    </tr>\n",
       "    <tr>\n",
       "      <th>8788</th>\n",
       "      <td>s8784</td>\n",
       "      <td>TV Show</td>\n",
       "      <td>yOKO</td>\n",
       "      <td>Not Given</td>\n",
       "      <td>Pakistan</td>\n",
       "      <td>6/23/2018</td>\n",
       "      <td>TV-Y</td>\n",
       "      <td>1 Season</td>\n",
       "      <td>Kids' TV</td>\n",
       "    </tr>\n",
       "    <tr>\n",
       "      <th>8789</th>\n",
       "      <td>s8786</td>\n",
       "      <td>TV Show</td>\n",
       "      <td>YoM</td>\n",
       "      <td>Not Given</td>\n",
       "      <td>Pakistan</td>\n",
       "      <td>06/07/2018</td>\n",
       "      <td>TV-Y7</td>\n",
       "      <td>1 Season</td>\n",
       "      <td>Kids' TV</td>\n",
       "    </tr>\n",
       "  </tbody>\n",
       "</table>\n",
       "<p>8790 rows × 9 columns</p>\n",
       "</div>"
      ],
      "text/plain": [
       "     show_id     Type                             title         director  \\\n",
       "0         s1    Movie              DICK jOHNSON IS deAD  Kirsten Johnson   \n",
       "1         s3  TV Show                         GANGLANdS  Julien Leclercq   \n",
       "2         s6  TV Show                     MIDNIgHT MASS    Mike Flanagan   \n",
       "3        s14    Movie  COnfESsIoNs OF AN INVISIBLE GIRL    Bruno Garotti   \n",
       "4         s8    Movie                           sANKOFa     Haile Gerima   \n",
       "...      ...      ...                               ...              ...   \n",
       "8785   s8797  TV Show                        YuNUs eMRE        Not Given   \n",
       "8786   s8798  TV Show                         zAK sTorm        Not Given   \n",
       "8787   s8801  TV Show                ziNdAGi gULZAR haI        Not Given   \n",
       "8788   s8784  TV Show                              yOKO        Not Given   \n",
       "8789   s8786  TV Show                               YoM        Not Given   \n",
       "\n",
       "            Country   date added rating   duration  \\\n",
       "0     United States    9/25/2021  PG-13     90 min   \n",
       "1            France  (9/24/2021)  TV-MA   1 Season   \n",
       "2     United States  (9/24/2021)  TV-MA   1 Season   \n",
       "3            Brazil    9/22/2021  TV-PG     91 min   \n",
       "4                Us    9/24/2021  TV-MA    125 min   \n",
       "...             ...          ...    ...        ...   \n",
       "8785         Turkey    1/17/2017  TV-PG  2 Seasons   \n",
       "8786  United States    9/13/2018  TV-Y7  3 Seasons   \n",
       "8787       Pakistan   12/15/2016  TV-PG   1 Season   \n",
       "8788       Pakistan    6/23/2018   TV-Y   1 Season   \n",
       "8789       Pakistan   06/07/2018  TV-Y7   1 Season   \n",
       "\n",
       "                                              listed_in  \n",
       "0                                         Documentaries  \n",
       "1     Crime TV Shows, International TV Shows, TV Act...  \n",
       "2                    TV Dramas, TV Horror, TV Mysteries  \n",
       "3                    Children & Family Movies, Comedies  \n",
       "4      Dramas, Independent Movies, International Movies  \n",
       "...                                                 ...  \n",
       "8785                  International TV Shows, TV Dramas  \n",
       "8786                                           Kids' TV  \n",
       "8787  International TV Shows, Romantic TV Shows, TV ...  \n",
       "8788                                           Kids' TV  \n",
       "8789                                           Kids' TV  \n",
       "\n",
       "[8790 rows x 9 columns]"
      ]
     },
     "execution_count": 189,
     "metadata": {},
     "output_type": "execute_result"
    }
   ],
   "source": [
    "df"
   ]
  },
  {
   "cell_type": "markdown",
   "id": "0049967c",
   "metadata": {},
   "source": [
    "Lets make a copy of our dataset so we can keep the original. it is a good practice to have a copy of your dataset"
   ]
  },
  {
   "cell_type": "code",
   "execution_count": 190,
   "id": "9fa3d44a",
   "metadata": {},
   "outputs": [],
   "source": [
    "df_clean =  df.copy()"
   ]
  },
  {
   "cell_type": "code",
   "execution_count": 191,
   "id": "a0a7abb4",
   "metadata": {},
   "outputs": [
    {
     "data": {
      "text/plain": [
       "Index(['show_id', 'Type', 'title', 'director', 'Country', 'date added',\n",
       "       'rating', 'duration', 'listed_in'],\n",
       "      dtype='object')"
      ]
     },
     "execution_count": 191,
     "metadata": {},
     "output_type": "execute_result"
    }
   ],
   "source": [
    "# So from here we will start working with df_clean where we have a copy of our dataset\n",
    "\n",
    "df_clean.columns"
   ]
  },
  {
   "cell_type": "markdown",
   "id": "7921067a",
   "metadata": {},
   "source": [
    "Some of the columns names are not properly formatted. Lets work on that!! by capitalizing each word"
   ]
  },
  {
   "cell_type": "code",
   "execution_count": 192,
   "id": "9d45ab41",
   "metadata": {},
   "outputs": [],
   "source": [
    "df_clean.columns = df_clean.columns.str.title()"
   ]
  },
  {
   "cell_type": "code",
   "execution_count": 193,
   "id": "65a70bab",
   "metadata": {},
   "outputs": [
    {
     "data": {
      "text/plain": [
       "Index(['Show_Id', 'Type', 'Title', 'Director', 'Country', 'Date Added',\n",
       "       'Rating', 'Duration', 'Listed_In'],\n",
       "      dtype='object')"
      ]
     },
     "execution_count": 193,
     "metadata": {},
     "output_type": "execute_result"
    }
   ],
   "source": [
    "df_clean.columns"
   ]
  },
  {
   "cell_type": "code",
   "execution_count": 194,
   "id": "46c011e9",
   "metadata": {},
   "outputs": [
    {
     "data": {
      "text/html": [
       "<div>\n",
       "<style scoped>\n",
       "    .dataframe tbody tr th:only-of-type {\n",
       "        vertical-align: middle;\n",
       "    }\n",
       "\n",
       "    .dataframe tbody tr th {\n",
       "        vertical-align: top;\n",
       "    }\n",
       "\n",
       "    .dataframe thead th {\n",
       "        text-align: right;\n",
       "    }\n",
       "</style>\n",
       "<table border=\"1\" class=\"dataframe\">\n",
       "  <thead>\n",
       "    <tr style=\"text-align: right;\">\n",
       "      <th></th>\n",
       "      <th>Show_Id</th>\n",
       "      <th>Type</th>\n",
       "      <th>Title</th>\n",
       "      <th>Director</th>\n",
       "      <th>Country</th>\n",
       "      <th>Date_Added</th>\n",
       "      <th>Rating</th>\n",
       "      <th>Duration</th>\n",
       "      <th>Listed_In</th>\n",
       "    </tr>\n",
       "  </thead>\n",
       "  <tbody>\n",
       "    <tr>\n",
       "      <th>0</th>\n",
       "      <td>s1</td>\n",
       "      <td>Movie</td>\n",
       "      <td>DICK jOHNSON IS deAD</td>\n",
       "      <td>Kirsten Johnson</td>\n",
       "      <td>United States</td>\n",
       "      <td>9/25/2021</td>\n",
       "      <td>PG-13</td>\n",
       "      <td>90 min</td>\n",
       "      <td>Documentaries</td>\n",
       "    </tr>\n",
       "    <tr>\n",
       "      <th>1</th>\n",
       "      <td>s3</td>\n",
       "      <td>TV Show</td>\n",
       "      <td>GANGLANdS</td>\n",
       "      <td>Julien Leclercq</td>\n",
       "      <td>France</td>\n",
       "      <td>(9/24/2021)</td>\n",
       "      <td>TV-MA</td>\n",
       "      <td>1 Season</td>\n",
       "      <td>Crime TV Shows, International TV Shows, TV Act...</td>\n",
       "    </tr>\n",
       "    <tr>\n",
       "      <th>2</th>\n",
       "      <td>s6</td>\n",
       "      <td>TV Show</td>\n",
       "      <td>MIDNIgHT MASS</td>\n",
       "      <td>Mike Flanagan</td>\n",
       "      <td>United States</td>\n",
       "      <td>(9/24/2021)</td>\n",
       "      <td>TV-MA</td>\n",
       "      <td>1 Season</td>\n",
       "      <td>TV Dramas, TV Horror, TV Mysteries</td>\n",
       "    </tr>\n",
       "    <tr>\n",
       "      <th>3</th>\n",
       "      <td>s14</td>\n",
       "      <td>Movie</td>\n",
       "      <td>COnfESsIoNs OF AN INVISIBLE GIRL</td>\n",
       "      <td>Bruno Garotti</td>\n",
       "      <td>Brazil</td>\n",
       "      <td>9/22/2021</td>\n",
       "      <td>TV-PG</td>\n",
       "      <td>91 min</td>\n",
       "      <td>Children &amp; Family Movies, Comedies</td>\n",
       "    </tr>\n",
       "    <tr>\n",
       "      <th>4</th>\n",
       "      <td>s8</td>\n",
       "      <td>Movie</td>\n",
       "      <td>sANKOFa</td>\n",
       "      <td>Haile Gerima</td>\n",
       "      <td>Us</td>\n",
       "      <td>9/24/2021</td>\n",
       "      <td>TV-MA</td>\n",
       "      <td>125 min</td>\n",
       "      <td>Dramas, Independent Movies, International Movies</td>\n",
       "    </tr>\n",
       "    <tr>\n",
       "      <th>...</th>\n",
       "      <td>...</td>\n",
       "      <td>...</td>\n",
       "      <td>...</td>\n",
       "      <td>...</td>\n",
       "      <td>...</td>\n",
       "      <td>...</td>\n",
       "      <td>...</td>\n",
       "      <td>...</td>\n",
       "      <td>...</td>\n",
       "    </tr>\n",
       "    <tr>\n",
       "      <th>8785</th>\n",
       "      <td>s8797</td>\n",
       "      <td>TV Show</td>\n",
       "      <td>YuNUs eMRE</td>\n",
       "      <td>Not Given</td>\n",
       "      <td>Turkey</td>\n",
       "      <td>1/17/2017</td>\n",
       "      <td>TV-PG</td>\n",
       "      <td>2 Seasons</td>\n",
       "      <td>International TV Shows, TV Dramas</td>\n",
       "    </tr>\n",
       "    <tr>\n",
       "      <th>8786</th>\n",
       "      <td>s8798</td>\n",
       "      <td>TV Show</td>\n",
       "      <td>zAK sTorm</td>\n",
       "      <td>Not Given</td>\n",
       "      <td>United States</td>\n",
       "      <td>9/13/2018</td>\n",
       "      <td>TV-Y7</td>\n",
       "      <td>3 Seasons</td>\n",
       "      <td>Kids' TV</td>\n",
       "    </tr>\n",
       "    <tr>\n",
       "      <th>8787</th>\n",
       "      <td>s8801</td>\n",
       "      <td>TV Show</td>\n",
       "      <td>ziNdAGi gULZAR haI</td>\n",
       "      <td>Not Given</td>\n",
       "      <td>Pakistan</td>\n",
       "      <td>12/15/2016</td>\n",
       "      <td>TV-PG</td>\n",
       "      <td>1 Season</td>\n",
       "      <td>International TV Shows, Romantic TV Shows, TV ...</td>\n",
       "    </tr>\n",
       "    <tr>\n",
       "      <th>8788</th>\n",
       "      <td>s8784</td>\n",
       "      <td>TV Show</td>\n",
       "      <td>yOKO</td>\n",
       "      <td>Not Given</td>\n",
       "      <td>Pakistan</td>\n",
       "      <td>6/23/2018</td>\n",
       "      <td>TV-Y</td>\n",
       "      <td>1 Season</td>\n",
       "      <td>Kids' TV</td>\n",
       "    </tr>\n",
       "    <tr>\n",
       "      <th>8789</th>\n",
       "      <td>s8786</td>\n",
       "      <td>TV Show</td>\n",
       "      <td>YoM</td>\n",
       "      <td>Not Given</td>\n",
       "      <td>Pakistan</td>\n",
       "      <td>06/07/2018</td>\n",
       "      <td>TV-Y7</td>\n",
       "      <td>1 Season</td>\n",
       "      <td>Kids' TV</td>\n",
       "    </tr>\n",
       "  </tbody>\n",
       "</table>\n",
       "<p>8790 rows × 9 columns</p>\n",
       "</div>"
      ],
      "text/plain": [
       "     Show_Id     Type                             Title         Director  \\\n",
       "0         s1    Movie              DICK jOHNSON IS deAD  Kirsten Johnson   \n",
       "1         s3  TV Show                         GANGLANdS  Julien Leclercq   \n",
       "2         s6  TV Show                     MIDNIgHT MASS    Mike Flanagan   \n",
       "3        s14    Movie  COnfESsIoNs OF AN INVISIBLE GIRL    Bruno Garotti   \n",
       "4         s8    Movie                           sANKOFa     Haile Gerima   \n",
       "...      ...      ...                               ...              ...   \n",
       "8785   s8797  TV Show                        YuNUs eMRE        Not Given   \n",
       "8786   s8798  TV Show                         zAK sTorm        Not Given   \n",
       "8787   s8801  TV Show                ziNdAGi gULZAR haI        Not Given   \n",
       "8788   s8784  TV Show                              yOKO        Not Given   \n",
       "8789   s8786  TV Show                               YoM        Not Given   \n",
       "\n",
       "            Country   Date_Added Rating   Duration  \\\n",
       "0     United States    9/25/2021  PG-13     90 min   \n",
       "1            France  (9/24/2021)  TV-MA   1 Season   \n",
       "2     United States  (9/24/2021)  TV-MA   1 Season   \n",
       "3            Brazil    9/22/2021  TV-PG     91 min   \n",
       "4                Us    9/24/2021  TV-MA    125 min   \n",
       "...             ...          ...    ...        ...   \n",
       "8785         Turkey    1/17/2017  TV-PG  2 Seasons   \n",
       "8786  United States    9/13/2018  TV-Y7  3 Seasons   \n",
       "8787       Pakistan   12/15/2016  TV-PG   1 Season   \n",
       "8788       Pakistan    6/23/2018   TV-Y   1 Season   \n",
       "8789       Pakistan   06/07/2018  TV-Y7   1 Season   \n",
       "\n",
       "                                              Listed_In  \n",
       "0                                         Documentaries  \n",
       "1     Crime TV Shows, International TV Shows, TV Act...  \n",
       "2                    TV Dramas, TV Horror, TV Mysteries  \n",
       "3                    Children & Family Movies, Comedies  \n",
       "4      Dramas, Independent Movies, International Movies  \n",
       "...                                                 ...  \n",
       "8785                  International TV Shows, TV Dramas  \n",
       "8786                                           Kids' TV  \n",
       "8787  International TV Shows, Romantic TV Shows, TV ...  \n",
       "8788                                           Kids' TV  \n",
       "8789                                           Kids' TV  \n",
       "\n",
       "[8790 rows x 9 columns]"
      ]
     },
     "execution_count": 194,
     "metadata": {},
     "output_type": "execute_result"
    }
   ],
   "source": [
    "# Date Added column is not properly demilited ... let us use _ as a delimiter\n",
    "\n",
    "df_clean.rename(columns = {'Date Added' : 'Date_Added'})"
   ]
  },
  {
   "cell_type": "markdown",
   "id": "20036a49",
   "metadata": {},
   "source": [
    "Let us check the datatype of each column"
   ]
  },
  {
   "cell_type": "code",
   "execution_count": 195,
   "id": "04c1a086",
   "metadata": {},
   "outputs": [],
   "source": [
    "df_clean.columns = df.columns.str.title() \\\n",
    "                    .str.replace(' ', '_') \\\n",
    "                    .str.replace('Date Added','Date_Added')"
   ]
  },
  {
   "cell_type": "code",
   "execution_count": 196,
   "id": "28043222",
   "metadata": {},
   "outputs": [
    {
     "name": "stdout",
     "output_type": "stream",
     "text": [
      "<class 'pandas.core.frame.DataFrame'>\n",
      "RangeIndex: 8790 entries, 0 to 8789\n",
      "Data columns (total 9 columns):\n",
      " #   Column      Non-Null Count  Dtype \n",
      "---  ------      --------------  ----- \n",
      " 0   Show_Id     8790 non-null   object\n",
      " 1   Type        8790 non-null   object\n",
      " 2   Title       8790 non-null   object\n",
      " 3   Director    8790 non-null   object\n",
      " 4   Country     8790 non-null   object\n",
      " 5   Date_Added  8790 non-null   object\n",
      " 6   Rating      8790 non-null   object\n",
      " 7   Duration    8790 non-null   object\n",
      " 8   Listed_In   8790 non-null   object\n",
      "dtypes: object(9)\n",
      "memory usage: 618.2+ KB\n"
     ]
    }
   ],
   "source": [
    "df_clean.info()"
   ]
  },
  {
   "cell_type": "markdown",
   "id": "71fa8f8c",
   "metadata": {},
   "source": [
    "Let us check the Date_Added column and format it to the appriopriate date datatype"
   ]
  },
  {
   "cell_type": "code",
   "execution_count": 197,
   "id": "c173d071",
   "metadata": {},
   "outputs": [
    {
     "data": {
      "text/plain": [
       "0       9/25/2021\n",
       "1     (9/24/2021)\n",
       "2     (9/24/2021)\n",
       "3       9/22/2021\n",
       "4       9/24/2021\n",
       "5       9/24/2021\n",
       "6       9/24/2021\n",
       "7      05/01/2021\n",
       "8       9/23/2021\n",
       "9      05/01/2021\n",
       "10     05/01/2021\n",
       "11     05/01/2021\n",
       "12      5/21/2021\n",
       "13      7/13/2021\n",
       "14     06/12/2021\n",
       "15     06/12/2021\n",
       "16     05/07/2021\n",
       "17      9/24/2021\n",
       "18      9/22/2021\n",
       "19     11/26/2019\n",
       "Name: Date_Added, dtype: object"
      ]
     },
     "execution_count": 197,
     "metadata": {},
     "output_type": "execute_result"
    }
   ],
   "source": [
    "df_clean.Date_Added.head(20)"
   ]
  },
  {
   "cell_type": "markdown",
   "id": "f0353d3c",
   "metadata": {},
   "source": [
    "#### Some of the date values have parenthisis which needs to be cleaned before changing the datatype\n"
   ]
  },
  {
   "cell_type": "code",
   "execution_count": 198,
   "id": "d5af0c66",
   "metadata": {},
   "outputs": [],
   "source": [
    "\n",
    "df_clean['Date_Added'] = df_clean['Date_Added'].str.replace(r'[()]', '', regex=True)"
   ]
  },
  {
   "cell_type": "markdown",
   "id": "9e407fe6",
   "metadata": {},
   "source": [
    "#### Lets format the data to the appriopriate data type"
   ]
  },
  {
   "cell_type": "code",
   "execution_count": 199,
   "id": "fbb45ca2",
   "metadata": {},
   "outputs": [],
   "source": [
    "df_clean['Date_Added'] = pd.to_datetime(df_clean['Date_Added'], format='%m/%d/%Y')"
   ]
  },
  {
   "cell_type": "code",
   "execution_count": 200,
   "id": "222bdd37",
   "metadata": {},
   "outputs": [
    {
     "data": {
      "text/plain": [
       "0    2021-09-25\n",
       "1    2021-09-24\n",
       "2    2021-09-24\n",
       "3    2021-09-22\n",
       "4    2021-09-24\n",
       "5    2021-09-24\n",
       "6    2021-09-24\n",
       "7    2021-05-01\n",
       "8    2021-09-23\n",
       "9    2021-05-01\n",
       "10   2021-05-01\n",
       "11   2021-05-01\n",
       "12   2021-05-21\n",
       "13   2021-07-13\n",
       "14   2021-06-12\n",
       "15   2021-06-12\n",
       "16   2021-05-07\n",
       "17   2021-09-24\n",
       "18   2021-09-22\n",
       "19   2019-11-26\n",
       "Name: Date_Added, dtype: datetime64[ns]"
      ]
     },
     "execution_count": 200,
     "metadata": {},
     "output_type": "execute_result"
    }
   ],
   "source": [
    "df_clean.Date_Added.head(20)"
   ]
  },
  {
   "cell_type": "markdown",
   "id": "b4042b8c",
   "metadata": {},
   "source": [
    "##### Lets work on the incosistences in the dataset"
   ]
  },
  {
   "cell_type": "markdown",
   "id": "ddeb86db",
   "metadata": {},
   "source": [
    "Lets work on the Type column"
   ]
  },
  {
   "cell_type": "code",
   "execution_count": 201,
   "id": "a874c6a1",
   "metadata": {},
   "outputs": [
    {
     "data": {
      "text/plain": [
       "Movie      6110\n",
       "TV Show    2417\n",
       "TVS         133\n",
       "TV          112\n",
       "Mvie          5\n",
       "Mve           3\n",
       "Mvi           2\n",
       "Mv            2\n",
       "tv            2\n",
       "m             2\n",
       "MvE           1\n",
       "M             1\n",
       "Name: Type, dtype: int64"
      ]
     },
     "execution_count": 201,
     "metadata": {},
     "output_type": "execute_result"
    }
   ],
   "source": [
    "\n",
    "df_clean.Type.value_counts()"
   ]
  },
  {
   "cell_type": "code",
   "execution_count": 202,
   "id": "2386fbf1",
   "metadata": {},
   "outputs": [],
   "source": [
    "df_clean['Type'] = df_clean['Type'].str.strip()"
   ]
  },
  {
   "cell_type": "code",
   "execution_count": 203,
   "id": "a6784512",
   "metadata": {},
   "outputs": [],
   "source": [
    "Type_clean = {\n",
    "    'Mvie|Mve|Mvi|Mv|m|MvE|M': 'Movie',\n",
    "    'TVS|tv|TV': 'TV Show'\n",
    "}\n",
    "\n",
    "def custom_replace(value, replace_dict):\n",
    "    for pattern, replacement in replace_dict.items():\n",
    "        patterns = pattern.split('|')\n",
    "        if any(pat in value for pat in patterns):\n",
    "            return replacement\n",
    "    return value\n",
    "\n",
    "df_clean['Type'] = df_clean['Type'].apply(custom_replace, args=(Type_clean,))\n"
   ]
  },
  {
   "cell_type": "code",
   "execution_count": 204,
   "id": "0f7e262b",
   "metadata": {
    "scrolled": true
   },
   "outputs": [
    {
     "name": "stdout",
     "output_type": "stream",
     "text": [
      "Movie      6126\n",
      "TV Show    2664\n",
      "Name: Type, dtype: int64\n"
     ]
    }
   ],
   "source": [
    "# Check the unique values in the 'Type' column to verify the changes\n",
    "print(df_clean['Type'].value_counts())"
   ]
  },
  {
   "cell_type": "markdown",
   "id": "09cfd92a",
   "metadata": {},
   "source": [
    "Lets change the values to a uniform font"
   ]
  },
  {
   "cell_type": "code",
   "execution_count": 205,
   "id": "cf38704f",
   "metadata": {},
   "outputs": [
    {
     "data": {
      "text/plain": [
       "Index(['Show_Id', 'Type', 'Title', 'Director', 'Country', 'Date_Added',\n",
       "       'Rating', 'Duration', 'Listed_In'],\n",
       "      dtype='object')"
      ]
     },
     "execution_count": 205,
     "metadata": {},
     "output_type": "execute_result"
    }
   ],
   "source": [
    "df_clean.columns"
   ]
  },
  {
   "cell_type": "code",
   "execution_count": 206,
   "id": "01fae32d",
   "metadata": {},
   "outputs": [],
   "source": [
    "columns_to_title = ['Title', 'Director', 'Country', 'Duration', 'Listed_In']\n",
    "df_clean[columns_to_title] = df_clean[columns_to_title].apply(lambda x: x.str.title())"
   ]
  },
  {
   "cell_type": "code",
   "execution_count": 207,
   "id": "a622243a",
   "metadata": {},
   "outputs": [
    {
     "data": {
      "text/html": [
       "<div>\n",
       "<style scoped>\n",
       "    .dataframe tbody tr th:only-of-type {\n",
       "        vertical-align: middle;\n",
       "    }\n",
       "\n",
       "    .dataframe tbody tr th {\n",
       "        vertical-align: top;\n",
       "    }\n",
       "\n",
       "    .dataframe thead th {\n",
       "        text-align: right;\n",
       "    }\n",
       "</style>\n",
       "<table border=\"1\" class=\"dataframe\">\n",
       "  <thead>\n",
       "    <tr style=\"text-align: right;\">\n",
       "      <th></th>\n",
       "      <th>Show_Id</th>\n",
       "      <th>Type</th>\n",
       "      <th>Title</th>\n",
       "      <th>Director</th>\n",
       "      <th>Country</th>\n",
       "      <th>Date_Added</th>\n",
       "      <th>Rating</th>\n",
       "      <th>Duration</th>\n",
       "      <th>Listed_In</th>\n",
       "    </tr>\n",
       "  </thead>\n",
       "  <tbody>\n",
       "    <tr>\n",
       "      <th>0</th>\n",
       "      <td>s1</td>\n",
       "      <td>Movie</td>\n",
       "      <td>Dick Johnson Is Dead</td>\n",
       "      <td>Kirsten Johnson</td>\n",
       "      <td>United States</td>\n",
       "      <td>2021-09-25</td>\n",
       "      <td>PG-13</td>\n",
       "      <td>90 Min</td>\n",
       "      <td>Documentaries</td>\n",
       "    </tr>\n",
       "    <tr>\n",
       "      <th>1</th>\n",
       "      <td>s3</td>\n",
       "      <td>TV Show</td>\n",
       "      <td>Ganglands</td>\n",
       "      <td>Julien Leclercq</td>\n",
       "      <td>France</td>\n",
       "      <td>2021-09-24</td>\n",
       "      <td>TV-MA</td>\n",
       "      <td>1 Season</td>\n",
       "      <td>Crime Tv Shows, International Tv Shows, Tv Act...</td>\n",
       "    </tr>\n",
       "    <tr>\n",
       "      <th>2</th>\n",
       "      <td>s6</td>\n",
       "      <td>TV Show</td>\n",
       "      <td>Midnight Mass</td>\n",
       "      <td>Mike Flanagan</td>\n",
       "      <td>United States</td>\n",
       "      <td>2021-09-24</td>\n",
       "      <td>TV-MA</td>\n",
       "      <td>1 Season</td>\n",
       "      <td>Tv Dramas, Tv Horror, Tv Mysteries</td>\n",
       "    </tr>\n",
       "    <tr>\n",
       "      <th>3</th>\n",
       "      <td>s14</td>\n",
       "      <td>Movie</td>\n",
       "      <td>Confessions Of An Invisible Girl</td>\n",
       "      <td>Bruno Garotti</td>\n",
       "      <td>Brazil</td>\n",
       "      <td>2021-09-22</td>\n",
       "      <td>TV-PG</td>\n",
       "      <td>91 Min</td>\n",
       "      <td>Children &amp; Family Movies, Comedies</td>\n",
       "    </tr>\n",
       "    <tr>\n",
       "      <th>4</th>\n",
       "      <td>s8</td>\n",
       "      <td>Movie</td>\n",
       "      <td>Sankofa</td>\n",
       "      <td>Haile Gerima</td>\n",
       "      <td>Us</td>\n",
       "      <td>2021-09-24</td>\n",
       "      <td>TV-MA</td>\n",
       "      <td>125 Min</td>\n",
       "      <td>Dramas, Independent Movies, International Movies</td>\n",
       "    </tr>\n",
       "    <tr>\n",
       "      <th>...</th>\n",
       "      <td>...</td>\n",
       "      <td>...</td>\n",
       "      <td>...</td>\n",
       "      <td>...</td>\n",
       "      <td>...</td>\n",
       "      <td>...</td>\n",
       "      <td>...</td>\n",
       "      <td>...</td>\n",
       "      <td>...</td>\n",
       "    </tr>\n",
       "    <tr>\n",
       "      <th>8785</th>\n",
       "      <td>s8797</td>\n",
       "      <td>TV Show</td>\n",
       "      <td>Yunus Emre</td>\n",
       "      <td>Not Given</td>\n",
       "      <td>Turkey</td>\n",
       "      <td>2017-01-17</td>\n",
       "      <td>TV-PG</td>\n",
       "      <td>2 Seasons</td>\n",
       "      <td>International Tv Shows, Tv Dramas</td>\n",
       "    </tr>\n",
       "    <tr>\n",
       "      <th>8786</th>\n",
       "      <td>s8798</td>\n",
       "      <td>TV Show</td>\n",
       "      <td>Zak Storm</td>\n",
       "      <td>Not Given</td>\n",
       "      <td>United States</td>\n",
       "      <td>2018-09-13</td>\n",
       "      <td>TV-Y7</td>\n",
       "      <td>3 Seasons</td>\n",
       "      <td>Kids' Tv</td>\n",
       "    </tr>\n",
       "    <tr>\n",
       "      <th>8787</th>\n",
       "      <td>s8801</td>\n",
       "      <td>TV Show</td>\n",
       "      <td>Zindagi Gulzar Hai</td>\n",
       "      <td>Not Given</td>\n",
       "      <td>Pakistan</td>\n",
       "      <td>2016-12-15</td>\n",
       "      <td>TV-PG</td>\n",
       "      <td>1 Season</td>\n",
       "      <td>International Tv Shows, Romantic Tv Shows, Tv ...</td>\n",
       "    </tr>\n",
       "    <tr>\n",
       "      <th>8788</th>\n",
       "      <td>s8784</td>\n",
       "      <td>TV Show</td>\n",
       "      <td>Yoko</td>\n",
       "      <td>Not Given</td>\n",
       "      <td>Pakistan</td>\n",
       "      <td>2018-06-23</td>\n",
       "      <td>TV-Y</td>\n",
       "      <td>1 Season</td>\n",
       "      <td>Kids' Tv</td>\n",
       "    </tr>\n",
       "    <tr>\n",
       "      <th>8789</th>\n",
       "      <td>s8786</td>\n",
       "      <td>TV Show</td>\n",
       "      <td>Yom</td>\n",
       "      <td>Not Given</td>\n",
       "      <td>Pakistan</td>\n",
       "      <td>2018-06-07</td>\n",
       "      <td>TV-Y7</td>\n",
       "      <td>1 Season</td>\n",
       "      <td>Kids' Tv</td>\n",
       "    </tr>\n",
       "  </tbody>\n",
       "</table>\n",
       "<p>8790 rows × 9 columns</p>\n",
       "</div>"
      ],
      "text/plain": [
       "     Show_Id     Type                             Title         Director  \\\n",
       "0         s1    Movie              Dick Johnson Is Dead  Kirsten Johnson   \n",
       "1         s3  TV Show                         Ganglands  Julien Leclercq   \n",
       "2         s6  TV Show                     Midnight Mass    Mike Flanagan   \n",
       "3        s14    Movie  Confessions Of An Invisible Girl    Bruno Garotti   \n",
       "4         s8    Movie                           Sankofa     Haile Gerima   \n",
       "...      ...      ...                               ...              ...   \n",
       "8785   s8797  TV Show                        Yunus Emre        Not Given   \n",
       "8786   s8798  TV Show                         Zak Storm        Not Given   \n",
       "8787   s8801  TV Show                Zindagi Gulzar Hai        Not Given   \n",
       "8788   s8784  TV Show                              Yoko        Not Given   \n",
       "8789   s8786  TV Show                               Yom        Not Given   \n",
       "\n",
       "            Country Date_Added Rating   Duration  \\\n",
       "0     United States 2021-09-25  PG-13     90 Min   \n",
       "1            France 2021-09-24  TV-MA   1 Season   \n",
       "2     United States 2021-09-24  TV-MA   1 Season   \n",
       "3            Brazil 2021-09-22  TV-PG     91 Min   \n",
       "4                Us 2021-09-24  TV-MA    125 Min   \n",
       "...             ...        ...    ...        ...   \n",
       "8785         Turkey 2017-01-17  TV-PG  2 Seasons   \n",
       "8786  United States 2018-09-13  TV-Y7  3 Seasons   \n",
       "8787       Pakistan 2016-12-15  TV-PG   1 Season   \n",
       "8788       Pakistan 2018-06-23   TV-Y   1 Season   \n",
       "8789       Pakistan 2018-06-07  TV-Y7   1 Season   \n",
       "\n",
       "                                              Listed_In  \n",
       "0                                         Documentaries  \n",
       "1     Crime Tv Shows, International Tv Shows, Tv Act...  \n",
       "2                    Tv Dramas, Tv Horror, Tv Mysteries  \n",
       "3                    Children & Family Movies, Comedies  \n",
       "4      Dramas, Independent Movies, International Movies  \n",
       "...                                                 ...  \n",
       "8785                  International Tv Shows, Tv Dramas  \n",
       "8786                                           Kids' Tv  \n",
       "8787  International Tv Shows, Romantic Tv Shows, Tv ...  \n",
       "8788                                           Kids' Tv  \n",
       "8789                                           Kids' Tv  \n",
       "\n",
       "[8790 rows x 9 columns]"
      ]
     },
     "execution_count": 207,
     "metadata": {},
     "output_type": "execute_result"
    }
   ],
   "source": [
    "df_clean"
   ]
  },
  {
   "cell_type": "code",
   "execution_count": 208,
   "id": "d472e825",
   "metadata": {},
   "outputs": [
    {
     "data": {
      "text/plain": [
       "Not Given                         2588\n",
       "Rajiv Chilaka                       20\n",
       "Alastair Fothergill                 18\n",
       "Raúl Campos, Jan Suter              18\n",
       "Marcus Raboy                        16\n",
       "                                  ... \n",
       "Parthiban                            1\n",
       "Scott Mcaboy                         1\n",
       "Raymie Muzquiz, Stu Livingston       1\n",
       "Joe Menendez                         1\n",
       "Mozez Singh                          1\n",
       "Name: Director, Length: 4526, dtype: int64"
      ]
     },
     "execution_count": 208,
     "metadata": {},
     "output_type": "execute_result"
    }
   ],
   "source": [
    "df_clean.Director.value_counts()"
   ]
  },
  {
   "cell_type": "markdown",
   "id": "0eb97353",
   "metadata": {},
   "source": [
    "Lets work on the Country column.. I noticed we have inconsistence data and mispelled country names"
   ]
  },
  {
   "cell_type": "code",
   "execution_count": 209,
   "id": "8cdc90ec",
   "metadata": {},
   "outputs": [
    {
     "data": {
      "text/plain": [
       "United States           3055\n",
       "India                   1048\n",
       "United Kingdom           604\n",
       "Pakistan                 420\n",
       "Not Given                287\n",
       "Canada                   271\n",
       "Japan                    257\n",
       "South Korea              214\n",
       "France                   213\n",
       "Spain                    182\n",
       "Mexico                   138\n",
       "Egypt                    123\n",
       "United State             114\n",
       "Australia                114\n",
       "Turkey                   112\n",
       "Nigeria                  105\n",
       "Germany                  104\n",
       "China                    100\n",
       "Brazil                    88\n",
       "Indonesia                 86\n",
       "Taiwan                    86\n",
       "Philippines               83\n",
       "Hong Kong                 77\n",
       "Italy                     65\n",
       "Us                        64\n",
       "Argentina                 63\n",
       "Thailand                  52\n",
       "Colombia                  42\n",
       "South Africa              42\n",
       "Uk                        34\n",
       "Denmark                   30\n",
       "Poland                    30\n",
       "Ireland                   28\n",
       "Netherlands               28\n",
       "Singapore                 28\n",
       "Lebanon                   24\n",
       "Malaysia                  23\n",
       "Chile                     22\n",
       "Israel                    22\n",
       "Norway                    21\n",
       "Sweden                    19\n",
       "Russia                    19\n",
       "Belgium                   18\n",
       "New Zealand               17\n",
       "Thailan                   14\n",
       "United Arab Emirates      14\n",
       "Argentin                  13\n",
       "Saudi Arabia              12\n",
       "Romania                   10\n",
       "Uruguay                    9\n",
       "Austria                    9\n",
       "Id                         9\n",
       "Switzerland                8\n",
       "Uae                        7\n",
       "Vietnam                    7\n",
       "Kuwait                     7\n",
       "Nited States               7\n",
       "Finland                    6\n",
       "Peru                       6\n",
       "Iceland                    6\n",
       "Name: Country, dtype: int64"
      ]
     },
     "execution_count": 209,
     "metadata": {},
     "output_type": "execute_result"
    }
   ],
   "source": [
    "df_clean.Country.value_counts().head(60)"
   ]
  },
  {
   "cell_type": "markdown",
   "id": "a10c420a",
   "metadata": {},
   "source": [
    "#### Lets replace the inconsistence and mis-spelt countries with the appriopriate names"
   ]
  },
  {
   "cell_type": "code",
   "execution_count": 210,
   "id": "3e270a0d",
   "metadata": {},
   "outputs": [],
   "source": [
    "Country_replace = {'United State|Us|Nited States' : 'United States',\n",
    "                  'Argentin': 'Argentina',\n",
    "                  'Uk': 'United Kingdom',\n",
    "                  'Thailan':'Thailand',\n",
    "                  'Uae':'United Arab Emirates',\n",
    "                  'Id': 'Indonesia'\n",
    "}\n",
    "\n",
    "def custom_replace(value, replace_dict):\n",
    "    for pattern, replacement in replace_dict.items():\n",
    "        patterns = pattern.split('|')\n",
    "        if any(pat in value for pat in patterns):\n",
    "            return replacement\n",
    "    return value\n",
    "\n",
    "df_clean['Country'] = df_clean['Country'].apply(custom_replace, args=(Country_replace,))"
   ]
  },
  {
   "cell_type": "code",
   "execution_count": 211,
   "id": "4d93863b",
   "metadata": {},
   "outputs": [
    {
     "data": {
      "text/plain": [
       "United States           3240\n",
       "India                   1048\n",
       "United Kingdom           640\n",
       "Pakistan                 420\n",
       "Not Given                287\n",
       "Canada                   271\n",
       "Japan                    257\n",
       "South Korea              214\n",
       "France                   213\n",
       "Spain                    182\n",
       "Mexico                   138\n",
       "Egypt                    123\n",
       "Australia                114\n",
       "Turkey                   112\n",
       "Nigeria                  105\n",
       "Germany                  104\n",
       "China                    100\n",
       "Indonesia                 95\n",
       "Brazil                    88\n",
       "Taiwan                    86\n",
       "Philippines               83\n",
       "Hong Kong                 77\n",
       "Argentina                 76\n",
       "Thailand                  66\n",
       "Italy                     65\n",
       "South Africa              42\n",
       "Colombia                  42\n",
       "Poland                    30\n",
       "Denmark                   30\n",
       "Singapore                 28\n",
       "Netherlands               28\n",
       "Ireland                   28\n",
       "Lebanon                   24\n",
       "Malaysia                  23\n",
       "Israel                    22\n",
       "Chile                     22\n",
       "Norway                    21\n",
       "United Arab Emirates      21\n",
       "Sweden                    19\n",
       "Russia                    19\n",
       "Belgium                   18\n",
       "New Zealand               17\n",
       "Saudi Arabia              12\n",
       "Romania                   10\n",
       "Austria                    9\n",
       "Uruguay                    9\n",
       "Switzerland                8\n",
       "Kuwait                     7\n",
       "Vietnam                    7\n",
       "Iceland                    6\n",
       "Finland                    6\n",
       "Czech Republic             6\n",
       "Peru                       6\n",
       "Bulgaria                   5\n",
       "Hungary                    5\n",
       "Kenya                      4\n",
       "Ghana                      4\n",
       "Portugal                   4\n",
       "Serbia                     3\n",
       "Bangladesh                 3\n",
       "Name: Country, dtype: int64"
      ]
     },
     "execution_count": 211,
     "metadata": {},
     "output_type": "execute_result"
    }
   ],
   "source": [
    "df_clean.Country.value_counts().head(60)"
   ]
  },
  {
   "cell_type": "markdown",
   "id": "dc892588",
   "metadata": {},
   "source": [
    "#### Lets move next to the Rating column"
   ]
  },
  {
   "cell_type": "markdown",
   "id": "31edccac",
   "metadata": {},
   "source": [
    "We will need to convert the ratings to upper case since they are abbreviations"
   ]
  },
  {
   "cell_type": "code",
   "execution_count": 212,
   "id": "33bacd6f",
   "metadata": {},
   "outputs": [],
   "source": [
    "df_clean['Rating'] = df_clean['Rating'].str.upper()"
   ]
  },
  {
   "cell_type": "code",
   "execution_count": 213,
   "id": "bf41bed7",
   "metadata": {},
   "outputs": [
    {
     "data": {
      "text/plain": [
       "TV-MA       3205\n",
       "TV-14       2155\n",
       "TV-PG        861\n",
       "R            799\n",
       "PG-13        490\n",
       "TV-Y7        333\n",
       "TV-Y         306\n",
       "PG           287\n",
       "TV-G         220\n",
       "NR            79\n",
       "G             41\n",
       "TV-Y7-FV       6\n",
       "NC-17          3\n",
       "UR             3\n",
       "TV14           2\n",
       "Name: Rating, dtype: int64"
      ]
     },
     "execution_count": 213,
     "metadata": {},
     "output_type": "execute_result"
    }
   ],
   "source": [
    "df_clean.Rating.value_counts()"
   ]
  },
  {
   "cell_type": "code",
   "execution_count": 214,
   "id": "d92b323f",
   "metadata": {},
   "outputs": [],
   "source": [
    "# TV14 is not correctly spelt, it is supposed to be TV-14. Lets change that\n",
    "\n",
    "\n",
    "Rating_clean = {'TV14' : 'TV-14'\n",
    "}\n",
    "df_clean.Rating.replace(Rating_clean, regex=True, inplace=True)"
   ]
  },
  {
   "cell_type": "code",
   "execution_count": 215,
   "id": "63feb559",
   "metadata": {},
   "outputs": [
    {
     "data": {
      "text/plain": [
       "TV-MA       3205\n",
       "TV-14       2157\n",
       "TV-PG        861\n",
       "R            799\n",
       "PG-13        490\n",
       "TV-Y7        333\n",
       "TV-Y         306\n",
       "PG           287\n",
       "TV-G         220\n",
       "NR            79\n",
       "G             41\n",
       "TV-Y7-FV       6\n",
       "NC-17          3\n",
       "UR             3\n",
       "Name: Rating, dtype: int64"
      ]
     },
     "execution_count": 215,
     "metadata": {},
     "output_type": "execute_result"
    }
   ],
   "source": [
    "df_clean.Rating.value_counts()"
   ]
  },
  {
   "cell_type": "markdown",
   "id": "79421a60",
   "metadata": {},
   "source": [
    "#### Now its time for the Duration column. lets jump on!!"
   ]
  },
  {
   "cell_type": "code",
   "execution_count": 216,
   "id": "aa4e76d5",
   "metadata": {},
   "outputs": [
    {
     "data": {
      "text/plain": [
       "1 Season      1788\n",
       "2 Seasons      421\n",
       "3 Seasons      197\n",
       "90 Min         151\n",
       "93 Min         146\n",
       "              ... \n",
       "97 Mins          1\n",
       "82               1\n",
       "94               1\n",
       "110              1\n",
       "11 Seasons       1\n",
       "Name: Duration, Length: 250, dtype: int64"
      ]
     },
     "execution_count": 216,
     "metadata": {},
     "output_type": "execute_result"
    }
   ],
   "source": [
    "df_clean.Duration.value_counts()"
   ]
  },
  {
   "cell_type": "code",
   "execution_count": 217,
   "id": "1a12b280",
   "metadata": {},
   "outputs": [
    {
     "data": {
      "text/plain": [
       "Dramas, International Movies                        362\n",
       "Documentaries                                       358\n",
       "Stand-Up Comedy                                     334\n",
       "Comedies, Dramas, International Movies              274\n",
       "Dramas, Independent Movies, International Movies    252\n",
       "Kids' Tv                                            219\n",
       "Children & Family Movies                            215\n",
       "Children & Family Movies, Comedies                  201\n",
       "Documentaries, International Movies                 186\n",
       "Dramas, International Movies, Romantic Movies       180\n",
       "Comedies, International Movies                      176\n",
       "Comedies, International Movies, Romantic Movies     152\n",
       "Dramas                                              137\n",
       "Name: Listed_In, dtype: int64"
      ]
     },
     "execution_count": 217,
     "metadata": {},
     "output_type": "execute_result"
    }
   ],
   "source": [
    "# Let me also check the Listed_In column\n",
    "df_clean.Listed_In.value_counts().head(13)"
   ]
  },
  {
   "cell_type": "markdown",
   "id": "90e85fd9",
   "metadata": {},
   "source": [
    "### Lets go down to Visualiation"
   ]
  },
  {
   "cell_type": "code",
   "execution_count": 218,
   "id": "bb698125",
   "metadata": {},
   "outputs": [],
   "source": [
    "import seaborn as sns\n",
    "import matplotlib.pyplot as plt\n",
    "from collections import Counter "
   ]
  },
  {
   "cell_type": "code",
   "execution_count": 219,
   "id": "8458b7fe",
   "metadata": {},
   "outputs": [
    {
     "name": "stdout",
     "output_type": "stream",
     "text": [
      "The most popular director is 'Rajiv Chilaka' with 20 movies.\n"
     ]
    }
   ],
   "source": [
    "#Lets check who is the most popular director\n",
    "\n",
    "director_counts = Counter(df_clean['Director'])\n",
    "\n",
    "# Find the most common director\n",
    "most_common_director, num_movies = director_counts.most_common(2)[1]\n",
    "\n",
    "print(f\"The most popular director is '{most_common_director}' with {num_movies} movies.\")"
   ]
  },
  {
   "cell_type": "code",
   "execution_count": 220,
   "id": "38614c5b",
   "metadata": {},
   "outputs": [
    {
     "data": {
      "text/plain": [
       "Not Given                 2588\n",
       "Rajiv Chilaka               20\n",
       "Alastair Fothergill         18\n",
       "Raúl Campos, Jan Suter      18\n",
       "Marcus Raboy                16\n",
       "Name: Director, dtype: int64"
      ]
     },
     "execution_count": 220,
     "metadata": {},
     "output_type": "execute_result"
    }
   ],
   "source": [
    "df_clean.Director.value_counts().head(5)"
   ]
  },
  {
   "cell_type": "code",
   "execution_count": 295,
   "id": "480bb354",
   "metadata": {},
   "outputs": [
    {
     "data": {
      "image/png": "[encoded data removed]",
      "text/plain": [
       "<Figure size 700x400 with 1 Axes>"
      ]
     },
     "metadata": {},
     "output_type": "display_data"
    }
   ],
   "source": [
    "# Plot a bar chart of the top directors\n",
    "top_directors = director_counts.most_common(5)  # Change 10 to the number you prefer\n",
    "director_names, movie_counts = zip(*top_directors)\n",
    "\n",
    "plt.figure(figsize=(7, 4))\n",
    "plt.barh(director_names, movie_counts, color='red')\n",
    "plt.xlabel('Number of Movies')\n",
    "plt.title('Top 5 Directors by Number of Movies', pad=20)\n",
    "plt.gca().invert_yaxis()  # To display the director with the most movies at the top\n",
    "\n",
    "plt.show()"
   ]
  },
  {
   "cell_type": "markdown",
   "id": "3312744a",
   "metadata": {},
   "source": [
    "#### Lets show the countries that make the most and least movies"
   ]
  },
  {
   "cell_type": "markdown",
   "id": "50f062f0",
   "metadata": {},
   "source": [
    "Lets sort the dataset by top 5 columns"
   ]
  },
  {
   "cell_type": "code",
   "execution_count": 222,
   "id": "25661c04",
   "metadata": {},
   "outputs": [
    {
     "data": {
      "text/plain": [
       "United States     3240\n",
       "India             1048\n",
       "United Kingdom     640\n",
       "Pakistan           420\n",
       "Not Given          287\n",
       "Name: Country, dtype: int64"
      ]
     },
     "execution_count": 222,
     "metadata": {},
     "output_type": "execute_result"
    }
   ],
   "source": [
    "df_clean.Country.value_counts().head(5)"
   ]
  },
  {
   "cell_type": "code",
   "execution_count": 294,
   "id": "906888b9",
   "metadata": {},
   "outputs": [
    {
     "data": {
      "image/png": "[encoded data removed]",
      "text/plain": [
       "<Figure size 500x400 with 1 Axes>"
      ]
     },
     "metadata": {},
     "output_type": "display_data"
    }
   ],
   "source": [
    "top_5 = df_clean.Country.value_counts().head(5)\n",
    "\n",
    "plt.figure(figsize=(5, 4))\n",
    "plt.bar(top_5.index, top_5.values, color='red')\n",
    "#plt.xlabel('Country')\n",
    "#plt.ylabel('Number of Movies')\n",
    "plt.title('Top 5 Countries by Number of Movies', pad=15)\n",
    "plt.xticks(rotation=45, ha=\"right\")\n",
    "\n",
    "plt.show()"
   ]
  },
  {
   "cell_type": "markdown",
   "id": "02b89093",
   "metadata": {},
   "source": [
    "That was amazing!!! it seems United States is leading in terms of Netflix contents"
   ]
  },
  {
   "cell_type": "markdown",
   "id": "fc673b4f",
   "metadata": {},
   "source": [
    "#### Lets check who the bottom 5 are"
   ]
  },
  {
   "cell_type": "code",
   "execution_count": 224,
   "id": "f9d7edec",
   "metadata": {},
   "outputs": [
    {
     "data": {
      "text/plain": [
       "Zimbabwe    1\n",
       "Namibia     1\n",
       "Pk          1\n",
       "Cameroon    1\n",
       "Cyprus      1\n",
       "Name: Country, dtype: int64"
      ]
     },
     "execution_count": 224,
     "metadata": {},
     "output_type": "execute_result"
    }
   ],
   "source": [
    "df_clean.Country.value_counts().tail(5)"
   ]
  },
  {
   "cell_type": "markdown",
   "id": "6588ae62",
   "metadata": {},
   "source": [
    "From inspection, it seems there are a whole lot of them with just 1 content on netflix. But these are the bottom 5"
   ]
  },
  {
   "cell_type": "code",
   "execution_count": 296,
   "id": "a3eba055",
   "metadata": {},
   "outputs": [
    {
     "data": {
      "image/png": "[encoded data removed]",
      "text/plain": [
       "<Figure size 500x400 with 1 Axes>"
      ]
     },
     "metadata": {},
     "output_type": "display_data"
    }
   ],
   "source": [
    "bottom_5 = df_clean.Country.value_counts().tail(5)\n",
    "\n",
    "plt.figure(figsize=(5, 4))\n",
    "plt.bar(bottom_5.index, bottom_5.values, color='red')\n",
    "#plt.xlabel('Country')\n",
    "#plt.ylabel('Number of Movies')\n",
    "plt.title('Bottom 5 Countries by Number of Movies', pad=15)\n",
    "plt.xticks(rotation=45, ha=\"right\")\n",
    "\n",
    "plt.show()"
   ]
  },
  {
   "cell_type": "markdown",
   "id": "e6655eb6",
   "metadata": {},
   "source": [
    "#### We would like to know how Movie content were available through the years"
   ]
  },
  {
   "cell_type": "code",
   "execution_count": 293,
   "id": "ce5ac1ad",
   "metadata": {},
   "outputs": [
    {
     "data": {
      "image/png": "[encoded data removed]",
      "text/plain": [
       "<Figure size 700x400 with 1 Axes>"
      ]
     },
     "metadata": {},
     "output_type": "display_data"
    }
   ],
   "source": [
    "# Extract the year from the 'date added' column\n",
    "df_clean['Year Added'] = pd.to_datetime(df_clean['Date_Added']).dt.year\n",
    "\n",
    "# Filter to when Type is = Movie\n",
    "movies = df_clean[df_clean['Type'] == 'Movie']\n",
    "\n",
    "# Count the number of movies added each year\n",
    "movie_counts_by_year = movies['Year Added'].value_counts().sort_index()\n",
    "\n",
    "# Lets visualize to see this \n",
    "\n",
    "plt.figure(figsize=(7, 4))\n",
    "plt.plot(movie_counts_by_year.index, movie_counts_by_year.values, marker='o', linestyle='-', color='red')\n",
    "#plt.ylabel('Number of Movies')\n",
    "plt.title('Movie Trends Over the Years', pad=15)\n",
    "plt.show()"
   ]
  },
  {
   "cell_type": "markdown",
   "id": "f2af7c9f",
   "metadata": {},
   "source": [
    "#### Let take a look at Most popular country-genre mix"
   ]
  },
  {
   "cell_type": "code",
   "execution_count": 227,
   "id": "1d16afaa",
   "metadata": {},
   "outputs": [
    {
     "data": {
      "text/plain": [
       "United States - Documentaries                               269\n",
       "United States - Stand-Up Comedy                             216\n",
       "United States - Children & Family Movies, Comedies          122\n",
       "India - Comedies, Dramas, International Movies              122\n",
       "India - Dramas, International Movies                        121\n",
       "India - Dramas, Independent Movies, International Movies    117\n",
       "United States - Kids' Tv                                    107\n",
       "United States - Children & Family Movies                    104\n",
       "United States - Dramas                                      100\n",
       "United States - Comedies                                     91\n",
       "Name: Country_Genre_Mix, dtype: int64"
      ]
     },
     "execution_count": 227,
     "metadata": {},
     "output_type": "execute_result"
    }
   ],
   "source": [
    "# Combine 'Country' and 'listed_in' columns to create a new column 'Country_Genre_Mix'\n",
    "df_clean['Country_Genre_Mix'] = df_clean['Country'] + ' - ' + df_clean['Listed_In']\n",
    "\n",
    "#popular_mix_counts = \n",
    "df_clean['Country_Genre_Mix'].value_counts().head(10)\n"
   ]
  },
  {
   "cell_type": "markdown",
   "id": "d236f952",
   "metadata": {},
   "source": [
    "I think we need to split these Genre by each occurence of comma(,) for readability "
   ]
  },
  {
   "cell_type": "code",
   "execution_count": 292,
   "id": "62a6f183",
   "metadata": {},
   "outputs": [
    {
     "data": {
      "text/plain": [
       "<Figure size 1200x600 with 0 Axes>"
      ]
     },
     "metadata": {},
     "output_type": "display_data"
    },
    {
     "data": {
      "image/png": "[encoded data removed]",
      "text/plain": [
       "<Figure size 640x480 with 1 Axes>"
      ]
     },
     "metadata": {},
     "output_type": "display_data"
    }
   ],
   "source": [
    "# Split 'listed_in' into different genre columns using the comma as a separator\n",
    "genre_lists = df_clean['Listed_In'].str.split(', ')\n",
    "\n",
    "# Create a list to store all the combinations of 'Country' and 'Genre'\n",
    "country_genre_combinations = []\n",
    "\n",
    "# Iterate through each row and create combinations\n",
    "for index, row in df_clean.iterrows():\n",
    "    for genre in genre_lists[index]:\n",
    "        country_genre_combinations.append((row['Country'], genre))\n",
    "\n",
    "# Count the occurrences of each country-genre mix\n",
    "country_genre_counts = Counter(country_genre_combinations)\n",
    "\n",
    "# Get the most common country-genre mix\n",
    "most_common_mix = country_genre_counts.most_common(1)[0]\n",
    "\n",
    "# Create a bar chart to visualize the most popular country-genre mix\n",
    "top_mix = country_genre_counts.most_common(10)\n",
    "top_mix_df = pd.DataFrame(top_mix, columns=['Country-Genre Mix', 'Count'])\n",
    "plt.figure(figsize=(12, 6))\n",
    "top_mix_df.plot(x='Country-Genre Mix', y='Count', kind='barh', color='red')\n",
    "\n",
    "plt.title('Top 10 Country-Genre Mixes', pad=15)\n",
    "\n",
    "plt.gca().invert_yaxis()\n",
    "plt.show()\n"
   ]
  },
  {
   "cell_type": "markdown",
   "id": "dc583a72",
   "metadata": {},
   "source": [
    "we've highlighted the top 10 country-genre combinations that are most popular. It provides an engaging snapshot of the genres that resonate with audiences in different countries. From the chart, you can see the diverse blend of cultures and preferences, and how certain genres find favor in specific regions. This information is not only fascinating but also insightful, as it offers a glimpse into the global appeal of various movie genres."
   ]
  },
  {
   "cell_type": "markdown",
   "id": "4b902f04",
   "metadata": {},
   "source": [
    "### Heyyy!!! i know you would like to see how TV- Show contents have been available through the years"
   ]
  },
  {
   "cell_type": "code",
   "execution_count": 297,
   "id": "aa7a969e",
   "metadata": {},
   "outputs": [
    {
     "data": {
      "image/png": "[encoded data removed]",
      "text/plain": [
       "<Figure size 700x400 with 1 Axes>"
      ]
     },
     "metadata": {},
     "output_type": "display_data"
    }
   ],
   "source": [
    "# Extract the year from the 'date added' column\n",
    "df_clean['Year Added'] = pd.to_datetime(df_clean['Date_Added']).dt.year\n",
    "\n",
    "# Filter to when Type is = TV Show\n",
    "tv_shows = df_clean[df_clean['Type'] == 'TV Show']\n",
    "\n",
    "# Count the number of Tv Shows added each year\n",
    "tv_show_counts_by_year = tv_shows['Year Added'].value_counts().sort_index()\n",
    "\n",
    "# Lets visualize to see this \n",
    "plt.figure(figsize=(7, 4))\n",
    "plt.plot(tv_show_counts_by_year.index, tv_show_counts_by_year.values, marker='o', linestyle='-', color='red')\n",
    "#plt.xlabel('Year Added')  # Add an xlabel for clarity\n",
    "#plt.ylabel('Number of TV Shows')  # Adjust the ylabel\n",
    "plt.title('TV Show Trends Over the Years', pad=15)\n",
    "plt.show()"
   ]
  },
  {
   "cell_type": "markdown",
   "id": "9a5b2521",
   "metadata": {},
   "source": [
    "### Movie and TV Show content over the years"
   ]
  },
  {
   "cell_type": "code",
   "execution_count": 301,
   "id": "80c44af7",
   "metadata": {},
   "outputs": [
    {
     "data": {
      "image/png": "[encoded data removed]",
      "text/plain": [
       "<Figure size 700x400 with 1 Axes>"
      ]
     },
     "metadata": {},
     "output_type": "display_data"
    }
   ],
   "source": [
    "# Extract the year from the 'date added' column\n",
    "df_clean['Year Added'] = (df_clean['Date_Added']).dt.year\n",
    "\n",
    "\n",
    "# Group the DataFrame by 'Year Added' and 'Type' and count the number of entries\n",
    "yearly_counts = df_clean.groupby(['Year Added', 'Type']).size().unstack().fillna(0)\n",
    "\n",
    "plt.figure(figsize=(7, 4))\n",
    "plt.plot(yearly_counts.index, yearly_counts['Movie'], label='Movies', marker='o', linestyle='-', color='black')\n",
    "plt.plot(yearly_counts.index, yearly_counts['TV Show'], label='TV Shows', marker='o', linestyle='-', color='red')\n",
    "\n",
    "plt.title('Movies and TV Shows Availability Over the Years', pad=15)\n",
    "plt.legend()\n",
    "\n",
    "plt.show()"
   ]
  },
  {
   "cell_type": "markdown",
   "id": "7f95a501",
   "metadata": {},
   "source": [
    "### Movie and TV Show content availability in countries"
   ]
  },
  {
   "cell_type": "code",
   "execution_count": 302,
   "id": "853ca3f9",
   "metadata": {},
   "outputs": [
    {
     "data": {
      "image/png": "[encoded data removed]",
      "text/plain": [
       "<Figure size 800x400 with 1 Axes>"
      ]
     },
     "metadata": {},
     "output_type": "display_data"
    }
   ],
   "source": [
    "# Group the DataFrame by 'Country' and 'Type' and count the number of entries\n",
    "country_type_counts = df_clean.groupby(['Country', 'Type']).size().unstack().fillna(0)\n",
    "\n",
    "# Sum the counts of both 'Movie' and 'TV Show' to get the total entries\n",
    "country_type_counts['Total'] = country_type_counts['Movie'] + country_type_counts['TV Show']\n",
    "\n",
    "# Get the top 10 countries with the most entries (movies and TV shows combined)\n",
    "top_10_countries = country_type_counts.nlargest(10, 'Total')\n",
    "\n",
    "plt.figure(figsize=(8, 4))\n",
    "width = 0.5\n",
    "x = range(len(top_10_countries.index))\n",
    "\n",
    "plt.bar(x, top_10_countries['Movie'], width, label='Movies', align='center', color='red')\n",
    "plt.bar(x, top_10_countries['TV Show'], width, label='TV Shows', align='edge', color='black')\n",
    "\n",
    "#plt.xlabel('Country')\n",
    "#plt.ylabel('Number of Entries')\n",
    "plt.title('Top 10 Countries with the Most Movies and TV Shows', pad=15)\n",
    "plt.xticks(x, top_10_countries.index, rotation=45)  # Set the x-axis labels\n",
    "plt.legend()\n",
    "plt.show()"
   ]
  },
  {
   "cell_type": "markdown",
   "id": "71520458",
   "metadata": {},
   "source": [
    "### Okay seeing how contents were availble by months in all years wont be a bad idea!! Lets see"
   ]
  },
  {
   "cell_type": "code",
   "execution_count": 291,
   "id": "596c520b",
   "metadata": {},
   "outputs": [
    {
     "data": {
      "text/plain": [
       "<Figure size 1200x600 with 0 Axes>"
      ]
     },
     "metadata": {},
     "output_type": "display_data"
    },
    {
     "data": {
      "image/png": "[encoded data removed]",
      "text/plain": [
       "<Figure size 640x480 with 1 Axes>"
      ]
     },
     "metadata": {},
     "output_type": "display_data"
    }
   ],
   "source": [
    "df_clean['Month'] = df_clean['Date_Added'].dt.month\n",
    "\n",
    "# Create a DataFrame with the count of movies and TV shows per month\n",
    "monthly_counts = df_clean.groupby(['Month', 'Type']).size().unstack()\n",
    "\n",
    "# Plot the distribution of movies and TV shows by month\n",
    "plt.figure(figsize=(12, 6))\n",
    "monthly_counts.plot(kind='bar', stacked=True, colormap='Set1')\n",
    "\n",
    "plt.title('Movies and TV Shows by Month')\n",
    "plt.legend(labels=['Movie', 'TV Show'])\n",
    "plt.xticks(range(12), ['Jan', 'Feb', 'Mar', 'Apr', 'May', 'Jun', 'Jul', 'Aug', 'Sep', 'Oct', 'Nov', 'Dec'], rotation=0)\n",
    "\n",
    "plt.show()"
   ]
  },
  {
   "cell_type": "markdown",
   "id": "0751b7a9",
   "metadata": {},
   "source": [
    "Thank you for taking the time to review my Netflix Movie and TV Show data cleaning and visualization project for the years 2008 to 2020. I have strived to ensure that my analysis meets the highest standards and delivers valuable insights. The selection of colors is aligned with Netflix's official colors.\n",
    "\n",
    "Your feedback and any further input would be greatly appreciated. I am committed to continuous improvement and would be delighted to hear your thoughts. Thank you for your time and consideration.\n",
    "\n",
    "Braimah Fadilat\n",
    "    AS\n",
    "Fadeelah ❤❤❤"
   ]
  }
 ],
 "metadata": {
  "kernelspec": {
   "display_name": "Python 3 (ipykernel)",
   "language": "python",
   "name": "python3"
  },
  "language_info": {
   "codemirror_mode": {
    "name": "ipython",
    "version": 3
   },
   "file_extension": ".py",
   "mimetype": "text/x-python",
   "name": "python",
   "nbconvert_exporter": "python",
   "pygments_lexer": "ipython3",
   "version": "3.11.4"
  }
 },
 "nbformat": 4,
 "nbformat_minor": 5
}
